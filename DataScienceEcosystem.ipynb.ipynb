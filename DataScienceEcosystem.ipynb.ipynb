{
 "cells": [
  {
   "cell_type": "markdown",
   "id": "80b92804-d143-48a9-9a8d-251de68daf03",
   "metadata": {},
   "source": [
    "# Data Science Tools and Ecosystem"
   ]
  },
  {
   "cell_type": "markdown",
   "id": "d2969684-dbc2-4fa3-8f2a-10208802ad48",
   "metadata": {},
   "source": [
    "In this notebook, Data Science Tools and Ecosystem are summarized."
   ]
  },
  {
   "cell_type": "markdown",
   "id": "50088fee-a940-4249-ab5b-8dce80606581",
   "metadata": {},
   "source": [
    "*Objectives:*\n",
    "- List of popular Data Science languages\n",
    "- Commonly used libraries\n",
    "- Identify Data Science Tools\n",
    "- How to use arithmetic expressions"
   ]
  },
  {
   "cell_type": "markdown",
   "id": "d9896e6b-3a74-4402-9018-18505fd8972d",
   "metadata": {},
   "source": [
    "Some of the popular languages that Data Scientists use are:\n",
    "1. Python\n",
    "2. SQL\n",
    "3. JavaScript\n",
    "4. R"
   ]
  },
  {
   "cell_type": "markdown",
   "id": "56d6cb15-8124-434c-8d05-1710e855452c",
   "metadata": {},
   "source": [
    "Some of the commonly used libraries used by Data Scientists include:\n",
    "\n",
    "1. Pandas\n",
    "2. Matplolib\n",
    "3. NumPy\n",
    "4. Plotly"
   ]
  },
  {
   "cell_type": "markdown",
   "id": "58dc1e5e-c946-4001-b3fb-92f5ed7a9968",
   "metadata": {},
   "source": [
    "|Data Science Tools|\n",
    "|-------------------|\n",
    "| R Studio |\n",
    "| Apache Spark |\n",
    "| TensorFlow |\n"
   ]
  },
  {
   "cell_type": "markdown",
   "id": "43b363fc-619f-4a1e-911c-ea1adcb4a17b",
   "metadata": {},
   "source": [
    "### Below are a few examples of evaluating arithmetic expressions in Python"
   ]
  },
  {
   "cell_type": "code",
   "execution_count": 1,
   "id": "33020519-0aef-4ffa-afd3-fba90f484005",
   "metadata": {},
   "outputs": [
    {
     "data": {
      "text/plain": [
       "17"
      ]
     },
     "execution_count": 1,
     "metadata": {},
     "output_type": "execute_result"
    }
   ],
   "source": [
    "#This is a simple arithmetic expression to mutiply then add integers\n",
    "\n",
    "(3*4)+5"
   ]
  },
  {
   "cell_type": "code",
   "execution_count": 2,
   "id": "b5c675b1-854f-4aa2-af5a-944127e52f98",
   "metadata": {},
   "outputs": [
    {
     "data": {
      "text/plain": [
       "3.3333333333333335"
      ]
     },
     "execution_count": 2,
     "metadata": {},
     "output_type": "execute_result"
    }
   ],
   "source": [
    "#This will convert 200 minutes to hours by diving by 60\n",
    "200/60"
   ]
  },
  {
   "cell_type": "markdown",
   "id": "62b6ba32-5988-4b24-ab35-3c372a91a43d",
   "metadata": {},
   "source": [
    "## Author\n",
    "Saturnina Efua Ada"
   ]
  },
  {
   "cell_type": "code",
   "execution_count": null,
   "id": "4da2ace3-1401-401b-b283-5c151df35b56",
   "metadata": {},
   "outputs": [],
   "source": []
  }
 ],
 "metadata": {
  "kernelspec": {
   "display_name": "Python 3 (ipykernel)",
   "language": "python",
   "name": "python3"
  },
  "language_info": {
   "codemirror_mode": {
    "name": "ipython",
    "version": 3
   },
   "file_extension": ".py",
   "mimetype": "text/x-python",
   "name": "python",
   "nbconvert_exporter": "python",
   "pygments_lexer": "ipython3",
   "version": "3.11.9"
  }
 },
 "nbformat": 4,
 "nbformat_minor": 5
}
